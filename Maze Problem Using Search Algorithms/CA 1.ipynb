{
 "cells": [
  {
   "cell_type": "markdown",
   "metadata": {},
   "source": [
    "# Transport Patients to Hospitals Using Search Methods\n",
    "In this computer assignment, we implement 3 search algorithms such as BFS, IDS and A* to find a path for ambulance to transport patients to hospitals."
   ]
  },
  {
   "cell_type": "markdown",
   "metadata": {},
   "source": [
    "## Libraries\n",
    "`time` is imported to measure time duration of solving the problem with each algorithm. Also `OrderedSet` is a data structure which not only access time is O(1) like set, but also remembers insertion order. "
   ]
  },
  {
   "cell_type": "code",
   "execution_count": 1,
   "metadata": {
    "code_folding": []
   },
   "outputs": [],
   "source": [
    "# ! pip3 install ordered-set"
   ]
  },
  {
   "cell_type": "code",
   "execution_count": 2,
   "metadata": {},
   "outputs": [],
   "source": [
    "import time\n",
    "from ordered_set import OrderedSet\n",
    "from IPython.display import Markdown, display"
   ]
  },
  {
   "cell_type": "markdown",
   "metadata": {},
   "source": [
    "## Data\n",
    "3 maps are given as testcases which includes '#', 'P', 'A' and numbers that means *wall*, *patient*, *ambulance* and the capacity of the hospital. To store patients, walls and hospitalls, *set*s are used to reduce access time."
   ]
  },
  {
   "cell_type": "code",
   "execution_count": 3,
   "metadata": {
    "code_folding": [
     0
    ]
   },
   "outputs": [],
   "source": [
    "def read_map(filename):\n",
    "    file = list(open(filename, 'r'))\n",
    "    walls_loc = set()\n",
    "    patients_loc = set()\n",
    "    hospitals_loc = set()\n",
    "    for i in range(len(file)):\n",
    "        for j in range(len(file[0])-1):\n",
    "            if file[i][j] == 'A':\n",
    "                ambulance_loc = [i, j]\n",
    "            elif file[i][j] == '#':\n",
    "                walls_loc.add((i, j))\n",
    "            elif file[i][j] == 'P':   \n",
    "                patients_loc.add((i, j))\n",
    "            elif file[i][j].isdigit():\n",
    "                hospitals_loc.add((i, j, int(file[i][j])))\n",
    "    return ambulance_loc, walls_loc, patients_loc, hospitals_loc"
   ]
  },
  {
   "cell_type": "markdown",
   "metadata": {},
   "source": [
    "## States\n",
    "To implement search algorithms, it's necessary to store given map and sates in proper data structure. *State* is a class which stores ambulance, patients and hospitals location, g and h value that are used in A* algorithm. In order to use set to store *State*s, `__eq__` and `__hash__` methods sholud be overridden. Also, `get_next_states` is implemented to return feasible adjacent states. `eval_h` calculate heuristic of the state depending on the given method."
   ]
  },
  {
   "cell_type": "code",
   "execution_count": 4,
   "metadata": {
    "code_folding": [
     1,
     9,
     14,
     16
    ]
   },
   "outputs": [],
   "source": [
    "class State:\n",
    "    def __init__(self, ambulance, patients, hospitals, path = \"\", g = 0, h = 0):\n",
    "        self.ambulance = ambulance\n",
    "        self.patients = patients\n",
    "        self.hospitals = hospitals\n",
    "        self.path = path\n",
    "        self.g = g\n",
    "        self.h = h\n",
    "    def __eq__(self, other_state):\n",
    "        if self.hospitals == other_state.hospitals and self.patients == other_state.patients and \\\n",
    "            self.ambulance == other_state.ambulance:\n",
    "            return True\n",
    "        else:\n",
    "            return False\n",
    "    def __hash__(self):\n",
    "        return hash((tuple(self.ambulance), tuple(self.patients), tuple(self.hospitals)))\n",
    "    def get_next_states(self, directions, walls_loc, max_hospital_size):\n",
    "        next_states = []\n",
    "        for key, value in directions.items():\n",
    "            path = self.path + \" \" + key\n",
    "            if (self.ambulance[0] + value[0], self.ambulance[1] + value[1]) in walls_loc:\n",
    "                continue\n",
    "            else:\n",
    "                ambulance_loc = self.ambulance.copy()\n",
    "                ambulance_loc[0] += value[0]; ambulance_loc[1] += value[1]\n",
    "                patients_loc = self.patients.copy()\n",
    "                hospitals_loc = self.hospitals.copy()\n",
    "                new_g = self.g + 1\n",
    "                if (self.ambulance[0] + value[0], self.ambulance[1] + value[1]) in self.patients:\n",
    "                    if (self.ambulance[0] + 2*value[0], self.ambulance[1] + 2*value[1]) in walls_loc or \\\n",
    "                        (self.ambulance[0] + 2*value[0], self.ambulance[1] + 2*value[1]) in self.patients:\n",
    "                        continue\n",
    "                    else:\n",
    "                        flag = False\n",
    "                        for i in range(max_hospital_size + 1):\n",
    "                             if (self.ambulance[0] + 2*value[0], self.ambulance[1] + 2*value[1], i) in self.hospitals:\n",
    "                                flag = True\n",
    "                                hospitals_loc.discard((self.ambulance[0] + 2*value[0], self.ambulance[1] + 2*value[1], i))\n",
    "                                if i > 1:\n",
    "                                    hospitals_loc.add((self.ambulance[0] + 2*value[0], self.ambulance[1] + 2*value[1], i-1))\n",
    "                                break\n",
    "                        patients_loc.discard((self.ambulance[0] + value[0], self.ambulance[1] + value[1]))\n",
    "                        if not flag:\n",
    "                            patients_loc.add((self.ambulance[0] + 2*value[0], self.ambulance[1] + 2*value[1])) \n",
    "                        next_states.append(State(ambulance_loc, patients_loc, hospitals_loc, path, new_g))\n",
    "                else:\n",
    "                    next_states.append(State(ambulance_loc, patients_loc, hospitals_loc, path, new_g))                        \n",
    "        return next_states\n",
    "    def eval_h(self, method):\n",
    "        h = 0\n",
    "        for p in self.patients:\n",
    "            min_dis_patients_hospitals = 100000\n",
    "            for hospital in self.hospitals:\n",
    "                if method == \"Euclidean\":\n",
    "                    dis = (abs(hospital[0] - p[0])**2 + abs(hospital[1] - p[1])**2)**0.5\n",
    "                elif method == \"Manhattan\":\n",
    "                    dis = abs(hospital[0] - p[0]) + abs(hospital[1] - p[1])\n",
    "                if min_dis_patients_hospitals > dis:\n",
    "                    min_dis_patients_hospitals = dis\n",
    "            h += min_dis_patients_hospitals\n",
    "        return h"
   ]
  },
  {
   "cell_type": "markdown",
   "metadata": {},
   "source": [
    "## Search Algorithms"
   ]
  },
  {
   "cell_type": "markdown",
   "metadata": {},
   "source": [
    "- ### BFS\n",
    "**Breadth-first search** is an algorithm which travers all nodes in a certain hieght and then moves on to the nodes at the next depth level. The key point to reach enough spead is to prevent visiting repeated states. In this implementaion, an ordered set is used to remember unique inserted elements by order. While the set is not empty, the first inserted element will pop and its feasible adjacent states will add to ordered set."
   ]
  },
  {
   "cell_type": "code",
   "execution_count": 5,
   "metadata": {
    "code_folding": [
     0
    ]
   },
   "outputs": [],
   "source": [
    "def BFS(initial_state, directions, walls_loc, max_hospital_size):\n",
    "    unique_states = OrderedSet([initial_state])\n",
    "    i = 0\n",
    "    num_all_states = 0\n",
    "    while True:\n",
    "        new_states = unique_states[i].get_next_states(directions, walls_loc, max_hospital_size)\n",
    "        num_all_states += len(new_states)\n",
    "        for s in new_states:\n",
    "            if not s.patients:\n",
    "                return s.path, num_all_states, len(unique_states)\n",
    "        unique_states.update(new_states)\n",
    "        i += 1"
   ]
  },
  {
   "cell_type": "markdown",
   "metadata": {},
   "source": [
    "- ### IDS\n",
    "**Iterative Deepening Search** is a combination of two algorithms, Breadth-first search (BFS) and Depth-first search (DFS). In this algorithm, a counter (*limit*) which shows the maximum depth to search is count up. At each level, all nodes with depth less than the limit will traverse using `DLS()` which is a recursive implementation of DFS algorithm with limited depth."
   ]
  },
  {
   "cell_type": "code",
   "execution_count": 6,
   "metadata": {
    "code_folding": [
     0,
     18
    ]
   },
   "outputs": [],
   "source": [
    "def DLS(curr_state, visited_states, limit, directions, walls_loc, max_hospital_size):\n",
    "    global num_all_states\n",
    "    if len(curr_state.patients) == 0:\n",
    "        return curr_state.path\n",
    "    if limit <= 0:\n",
    "        return False\n",
    "    new_states = curr_state.get_next_states(directions, walls_loc, max_hospital_size)\n",
    "    num_all_states += len(new_states)\n",
    "    for s in new_states:\n",
    "        if s in visited_states and visited_states[s] <= len(s.path.split()):\n",
    "            continue\n",
    "        else:\n",
    "            visited_states[s] = len(s.path.split())\n",
    "        path = DLS(s, visited_states, limit-1, directions, walls_loc, max_hospital_size)\n",
    "        if path:\n",
    "            return path\n",
    "    return False          \n",
    "    \n",
    "def IDS(initial_state, directions, walls_loc, max_hospital_size):\n",
    "    i = 0\n",
    "    global num_all_states\n",
    "    num_all_states = 0\n",
    "    while True:\n",
    "        visited_states = {initial_state: 0}\n",
    "        path = DLS(initial_state, visited_states, i, directions, walls_loc, max_hospital_size)\n",
    "        if path:\n",
    "            return path, num_all_states, len(visited_states)\n",
    "        i += 1"
   ]
  },
  {
   "cell_type": "markdown",
   "metadata": {},
   "source": [
    "- ### A*\n",
    "It's an informed search strategy that uses an evaluation function to rank nodes and select the most promising for expansion. Evaluation function consists of 2 value, the cost to reach that state (g) and estimation of the cost of reaching the goal called **heuristic** (h). Using `eval_h` heuristic of each state is calculated and stored in its class. At the selection point, the node with minimum g + h is selected from all nodes in the frontier set. Again using `get_next_states()`, the feasible adjacent states will add to the frontier set. If a new state has been already existed and has more g value it should be replaced with the new one. Since a set doesn't return its elements in O(1) access time, it is replaced with a dictionary. The keys of the dictionary are states and the values are g value of them. It should be considered that A* algorithm is optimal if the heuristic is admissible and and search algorithm ignores repeated states.\n",
    "There are two admissible method to evaluate heuritic, **Manhattan distance** and **Euclidean distance**. Both following heuristics are admissible becuase $h(n) \\leq h*(n)$.\n",
    "    - **Manhattan distance** or **L1 distance** is the sum of the lengths of the projections of the line segment between the points onto the coordinate axes.\n",
    "    \\begin{equation*}\n",
    "      d_1(p, q) = ||p-q||_1 = \\sum_{i=1}^{n}|p_i - q_i| \n",
    "    \\end{equation*}\n",
    "    - **Euclidean distance** or **L2 distance** is the ordinary straight-line distance between two points in Euclidean space.\n",
    "    \\begin{equation*}\n",
    "      d_2(p, q) = ||p-q||_2 = \\sum_{i=1}^{n}|p_i - q_i|^2 \n",
    "    \\end{equation*}"
   ]
  },
  {
   "cell_type": "code",
   "execution_count": 7,
   "metadata": {
    "code_folding": [
     0
    ]
   },
   "outputs": [],
   "source": [
    "def A_star(initial_state, directions, walls_loc, max_hospital_size, method = \"Manhattan\"):\n",
    "    initial_state.h = initial_state.eval_h(method)\n",
    "    visited_states = set()\n",
    "    frontier_states = {initial_state: 0}\n",
    "    num_all_states = 0\n",
    "    while frontier_states:\n",
    "        selected_state = min(frontier_states, key=lambda k: k.h + k.g)\n",
    "        if not selected_state.patients:\n",
    "            return selected_state.path, num_all_states, len(visited_states) + len(frontier_states)\n",
    "        frontier_states.pop(selected_state)\n",
    "        visited_states.add(selected_state)\n",
    "        new_states = selected_state.get_next_states(directions, walls_loc, max_hospital_size)\n",
    "        num_all_states += len(new_states)\n",
    "        for s in new_states:\n",
    "            if s in visited_states:\n",
    "                continue\n",
    "            if s in frontier_states:\n",
    "                if s.g >= frontier_states[s]:\n",
    "                    continue\n",
    "                else:\n",
    "                    frontier_states.pop(s)\n",
    "            s.h = s.eval_h(method)\n",
    "            frontier_states[s] = len(s.path.split())"
   ]
  },
  {
   "cell_type": "markdown",
   "metadata": {},
   "source": [
    "## Result and Conclusion\n",
    "In our problem initial states consist of the primary location of ambulance, patients and hospitals, actions are feasible movement of ambulance to up, down, left and right, and target state is the one which there is no patients in the map."
   ]
  },
  {
   "cell_type": "code",
   "execution_count": 8,
   "metadata": {
    "code_folding": [
     0
    ]
   },
   "outputs": [],
   "source": [
    "def print_results(filename, methods, directions, max_hospital_size = 3, num_of_repeat_methods = 3):\n",
    "    ambulance_loc, walls_loc, patients_loc, hospitals_loc = read_map(filename)\n",
    "    initial_state = State(ambulance_loc, patients_loc, hospitals_loc)\n",
    "    table = \"|Method|Distance|Number of All States|Number of Unique States|Average Time|\\n|---|---|---|---|---|\\n\"\n",
    "    for i, method in enumerate(methods):\n",
    "        start_time = time.time()\n",
    "        if method[0] == A_star:\n",
    "            for _ in range(3):\n",
    "                path, num_all_states, num_unique_states = method[0](initial_state, directions, walls_loc, max_hospital_size, method[1])\n",
    "            average_times = (time.time() - start_time)/3\n",
    "            table += \"|\" + method[0].__name__ + method[1] + \"|\" + str(len(path.split())) + \"|\" + str(num_all_states) + \"|\" + str(num_unique_states) + \"|\" + str(average_times) + \"|\\n\"\n",
    "        else:\n",
    "            for _ in range(3):\n",
    "                path, num_all_states, num_unique_states = method[0](initial_state, directions, walls_loc, max_hospital_size)\n",
    "            average_times = (time.time() - start_time)/3\n",
    "            table += \"|\" + method[0].__name__ + \"|\" + str(len(path.split())) + \"|\" + str(num_all_states) + \"|\" + str(num_unique_states) + \"|\" + str(average_times) + \"|\\n\"  \n",
    "    table += \"<caption style=\\\"text-align:center\\\">\" + filename + \"</caption>\\n\"\n",
    "    display(Markdown(table))"
   ]
  },
  {
   "cell_type": "code",
   "execution_count": 9,
   "metadata": {
    "code_folding": [
     0
    ]
   },
   "outputs": [
    {
     "data": {
      "text/markdown": [
       "|Method|Distance|Number of All States|Number of Unique States|Average Time|\n",
       "|---|---|---|---|---|\n",
       "|BFS|11|939|447|0.0054314931233723955|\n",
       "|IDS|11|4092|423|0.01670527458190918|\n",
       "|A_starManhattan|11|433|210|0.0025680859883626304|\n",
       "|A_starEuclidean|11|468|222|0.0029081503550211587|\n",
       "<caption style=\"text-align:center\">testcases/test1.txt</caption>\n"
      ],
      "text/plain": [
       "<IPython.core.display.Markdown object>"
      ]
     },
     "metadata": {},
     "output_type": "display_data"
    },
    {
     "data": {
      "text/markdown": [
       "|Method|Distance|Number of All States|Number of Unique States|Average Time|\n",
       "|---|---|---|---|---|\n",
       "|BFS|27|24756|10468|0.13984338442484537|\n",
       "|IDS|27|472421|3563|2.3853904406229653|\n",
       "|A_starManhattan|27|12480|5608|0.3984987735748291|\n",
       "|A_starEuclidean|27|13736|6118|0.47394657135009766|\n",
       "<caption style=\"text-align:center\">testcases/test2.txt</caption>\n"
      ],
      "text/plain": [
       "<IPython.core.display.Markdown object>"
      ]
     },
     "metadata": {},
     "output_type": "display_data"
    },
    {
     "data": {
      "text/markdown": [
       "|Method|Distance|Number of All States|Number of Unique States|Average Time|\n",
       "|---|---|---|---|---|\n",
       "|BFS|39|80333|31750|0.4358649253845215|\n",
       "|IDS|39|2154235|8291|12.141573905944824|\n",
       "|A_starManhattan|39|31782|13303|1.564466158548991|\n",
       "|A_starEuclidean|39|37072|15363|2.052085796991984|\n",
       "<caption style=\"text-align:center\">testcases/test3.txt</caption>\n"
      ],
      "text/plain": [
       "<IPython.core.display.Markdown object>"
      ]
     },
     "metadata": {},
     "output_type": "display_data"
    }
   ],
   "source": [
    "directions = {\n",
    "    \"Up\": (-1, 0),\n",
    "    \"Left\": (0, -1),\n",
    "    \"Down\": (1, 0),\n",
    "    \"Right\": (0, 1)\n",
    "}\n",
    "methods = [[BFS], [IDS], [A_star, \"Manhattan\"], [A_star, \"Euclidean\"]]\n",
    "for i in range(3):\n",
    "    print_results(\"testcases/test\" + str(i + 1) + \".txt\", methods, directions)"
   ]
  },
  {
   "cell_type": "markdown",
   "metadata": {},
   "source": [
    "As we would expect all 4 methods are optimal and they found the shortest path to solve the problem. If we compare 4 methods based on speed, A* methods and BFS are faster than IDS, but as you see IDS stores much fewer states.It should be noted that to increase the speed, we stores all unique visited states in IDS but originally only O(m) nodes should be stores in this method. There is a table below to compare these methods:"
   ]
  },
  {
   "cell_type": "markdown",
   "metadata": {},
   "source": [
    "|Method|complete|optimal|time|space|\n",
    "|---|---|---|---|---|\n",
    "|BFS|yes|yes|O$(b^{d})$|O$(b^{d})$|\n",
    "|Original IDS|yes|yes|O$(b^{d})$|O$(bd)$| \n",
    "|$A^*$|yes|yes|$exp$|$exp$|\n",
    "<caption  style=\"text-align:center\">Properties of different algorithms</caption>"
   ]
  }
 ],
 "metadata": {
  "kernelspec": {
   "display_name": "Python 3",
   "language": "python",
   "name": "python3"
  },
  "language_info": {
   "codemirror_mode": {
    "name": "ipython",
    "version": 3
   },
   "file_extension": ".py",
   "mimetype": "text/x-python",
   "name": "python",
   "nbconvert_exporter": "python",
   "pygments_lexer": "ipython3",
   "version": "3.6.9"
  }
 },
 "nbformat": 4,
 "nbformat_minor": 2
}
